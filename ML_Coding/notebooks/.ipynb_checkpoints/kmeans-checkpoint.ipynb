{
 "cells": [
  {
   "cell_type": "markdown",
   "metadata": {},
   "source": [
    "# K-means\n",
    "K-means clustering is a popular unsupervised machine learning algorithm used for grouping similar data points into k - clusters. Goal: to partition a given dataset into k (predefined) clusters.\n",
    "\n",
    "The k-means algorithm works by first randomly initializing k cluster centers, one for each cluster. Each data point in the dataset is then assigned to the nearest cluster center based on their distance. The distance metric used is typically Euclidean distance, but other distance measures such as Manhattan distance or cosine similarity can also be used.\n",
    "\n",
    "After all the data points have been assigned to a cluster, the algorithm calculates the new mean for each cluster by taking the average of all the data points assigned to that cluster. These new means become the new cluster centers. The algorithm then repeats the assignment and mean calculation steps until the cluster assignments no longer change or until a maximum number of iterations is reached.\n",
    "\n",
    "The final output of the k-means algorithm is a set of k clusters, where each cluster contains the data points that are most similar to each other based on the distance metric used. The algorithm is commonly used in various fields such as image segmentation, market segmentation, and customer profiling.\n",
    "\n",
    "```\n",
    "Initialize:\n",
    "- K: number of clusters\n",
    "- Data: input dataset\n",
    "- Randomly select K initial centroids\n",
    "\n",
    "Repeat:\n",
    "- Assign each data point to the nearest centroid (based on Euclidean distance)\n",
    "- Calculate the mean of each cluster to update its centroid\n",
    "- Check if the centroids have converged (i.e., they no longer change)\n",
    "\n",
    "Until:\n",
    "- The centroids have converged\n",
    "- The maximum number of iterations has been reached\n",
    "\n",
    "Output:\n",
    "- The final K clusters and their corresponding centroids\n",
    "```"
   ]
  },
  {
   "cell_type": "markdown",
   "metadata": {},
   "source": [
    "## Code\n",
    "Implementation of Kmeans clustering in Python from scratch"
   ]
  },
  {
   "cell_type": "code",
   "execution_count": 2,
   "metadata": {
    "vscode": {
     "languageId": "plaintext"
    }
   },
   "outputs": [],
   "source": [
    "import numpy as np\n",
    "\n",
    "class KMeans:\n",
    "    def __init__(self, k, max_iteration=100):\n",
    "        self.k = k\n",
    "        self.max_iter = max_iteration\n",
    "        self.centroids = None\n",
    "        self.cluster_assignments = None\n",
    "    \n",
    "    def fit(self, X):\n",
    "        # initialize k centroids randomly\n",
    "        self.centroids = X[np.random.choice(range(len(X)), self.k, replace=False)]\n",
    "        \n",
    "        for i in range(self.max_iter):\n",
    "            # assign each data point to the nearest centroid\n",
    "            cluster_assignments = []\n",
    "            for j in range(len(X)):\n",
    "                distances = np.linalg.norm(X[j] - self.centroids, axis=1)\n",
    "                cluster_assignments.append(np.argmin(distances))\n",
    "            # update centroids\n",
    "            for k in range(self.k):\n",
    "                cluster_data_points = X[np.where(np.array(cluster_assignments) == k)]\n",
    "                if len(cluster_data_points) > 0:\n",
    "                    self.centroids[k] = np.mean(cluster_data_points, axis=0)\n",
    "            # check for convergence\n",
    "            if i > 0 and np.array_equal(self.centroids, previous_centroids):\n",
    "                break\n",
    "            # update prev centroids\n",
    "            previous_centroids = np.copy(self.centroids)\n",
    "        \n",
    "        # store the final cluster assignment\n",
    "        self.cluster_assignments = cluster_assignments\n",
    "    \n",
    "    def predict(self, X):\n",
    "        cluster_assignments = []\n",
    "        for j in range(len(X)):\n",
    "            distances = np.linalg.norm(X[j] - self.centroids, axis=1)\n",
    "            cluster_assignments.append(np.argmin(distances))\n",
    "            \n",
    "        return cluster_assignments"
   ]
  },
  {
   "cell_type": "markdown",
   "metadata": {},
   "source": [
    "The KMeans class has an __init__ method that takes the number of clusters (k) and the maximum number of iterations to run (max_iterations). The fit method takes the input dataset (X) and runs the k-means clustering algorithm. The predict method takes a new dataset (X) and returns the cluster assignments for each data point based on the centroids learned during training.\n",
    "\n",
    "Note that this implementation assumes that the input dataset X is a NumPy array with each row representing a single data point and each column representing a feature. The algorithm also uses Euclidean distance to calculate the distances between data points and centroids.\n"
   ]
  },
  {
   "cell_type": "markdown",
   "metadata": {},
   "source": [
    "#### Test the code piece by piece"
   ]
  },
  {
   "cell_type": "code",
   "execution_count": 3,
   "metadata": {},
   "outputs": [
    {
     "name": "stdout",
     "output_type": "stream",
     "text": [
      "(10, 2)\n"
     ]
    }
   ],
   "source": [
    "x1 = np.random.randn(5,2) + 5\n",
    "x2 = np.random.randn(5,2) - 5\n",
    "X = np.concatenate([x1, x2], axis=0)\n",
    "print(X.shape)"
   ]
  },
  {
   "cell_type": "code",
   "execution_count": null,
   "metadata": {},
   "outputs": [],
   "source": [
    "X[np.random.choice(range(len(X)), 2, replace=False)]\n",
    "k=3\n",
    "centroids = X[np.random.choice(range(len(X)), k, replace=False)]\n",
    "print(centroids.shape)"
   ]
  },
  {
   "cell_type": "code",
   "execution_count": null,
   "metadata": {},
   "outputs": [],
   "source": [
    "centroids"
   ]
  },
  {
   "cell_type": "code",
   "execution_count": null,
   "metadata": {},
   "outputs": [],
   "source": [
    "j = 1\n",
    "X[j]"
   ]
  },
  {
   "cell_type": "code",
   "execution_count": null,
   "metadata": {},
   "outputs": [],
   "source": [
    "X[j] - centroids"
   ]
  },
  {
   "cell_type": "code",
   "execution_count": null,
   "metadata": {},
   "outputs": [],
   "source": [
    "np.linalg.norm(X[j] - centroids)"
   ]
  },
  {
   "cell_type": "code",
   "execution_count": null,
   "metadata": {},
   "outputs": [],
   "source": [
    "np.linalg.norm(X[j] - centroids, axis=0)"
   ]
  },
  {
   "cell_type": "code",
   "execution_count": null,
   "metadata": {},
   "outputs": [],
   "source": [
    "np.linalg.norm(X[j] - centroids, axis=1)"
   ]
  },
  {
   "cell_type": "code",
   "execution_count": null,
   "metadata": {},
   "outputs": [],
   "source": [
    "distances = np.linalg.norm(X[j] - centroids, axis=1)\n",
    "np.argmin(distances)"
   ]
  },
  {
   "cell_type": "code",
   "execution_count": null,
   "metadata": {},
   "outputs": [],
   "source": [
    "cluster_assignments = [0,1,2,4]\n",
    "np.array(cluster_assignments) == 3"
   ]
  },
  {
   "cell_type": "markdown",
   "metadata": {},
   "source": [
    "## Test"
   ]
  },
  {
   "cell_type": "code",
   "execution_count": null,
   "metadata": {},
   "outputs": [],
   "source": [
    "x1 = np.random.randn(5,2) + 5\n",
    "x2 = np.random.randn(5,2) - 5\n",
    "X = np.concatenate([x1, x2], axis=0)\n",
    "\n",
    "kmeans = KMeans(k=2)\n",
    "kmeans.fit(X)\n",
    "cluster_assignments = kmeans.predict(X)\n",
    "print(cluster_assignments)\n",
    "print(kmeans.centroids)"
   ]
  },
  {
   "cell_type": "code",
   "execution_count": null,
   "metadata": {},
   "outputs": [],
   "source": [
    "from matplotlib import pyplot as plt\n",
    "# Plot the data points with different colors based on their cluster assignments\n",
    "colors = ['r', 'b']\n",
    "for i in range(kmeans.k):\n",
    "    plt.scatter(X[np.where(np.array(cluster_assignments) == i)][:,0], \n",
    "                X[np.where(np.array(cluster_assignments) == i)][:,1], \n",
    "                color=colors[i])\n",
    "\n",
    "# Plot the centroids as black circles\n",
    "plt.scatter(kmeans.centroids[:,0], kmeans.centroids[:,1], color='black', marker='o')\n",
    "\n",
    "# Show the plot\n",
    "plt.show()"
   ]
  },
  {
   "cell_type": "markdown",
   "metadata": {},
   "source": [
    "## Code optimization\n",
    "- Random initialization of centroids: Instead of initializing the centroids using the first k data points, we can randomly initialize them to improve the convergence of the algorithm. This can be done by selecting k random data points from the input dataset as the initial centroids.\n",
    "- Early stopping: We can stop the k-means algorithm if the cluster assignments and centroids do not change after a certain number of iterations. This helps to avoid unnecessary computation.\n",
    "- Vectorization: We can use numpy arrays and vectorized operations to speed up the computation. This avoids the need for loops and makes the code more efficient."
   ]
  },
  {
   "cell_type": "code",
   "execution_count": null,
   "metadata": {},
   "outputs": [],
   "source": [
    "import numpy as np\n",
    "\n",
    "class KMeans:\n",
    "    def __init__(self, k=3, max_iters=100, tol=1e-4):\n",
    "        self.k = k\n",
    "        self.max_iters = max_iters\n",
    "        self.tol = tol\n",
    "    \n",
    "    def fit(self, X):\n",
    "        # Initialize centroids randomly\n",
    "        self.centroids = X[np.random.choice(X.shape[0], self.k, replace=False)]\n",
    "        \n",
    "        # Iterate until convergence or maximum number of iterations is reached\n",
    "        for i in range(self.max_iters):\n",
    "            # Assign each data point to the closest centroid\n",
    "            distances = np.linalg.norm(X[:, np.newaxis] - self.centroids, axis=2)\n",
    "            cluster_assignments = np.argmin(distances, axis=1)\n",
    "            \n",
    "            # Update the centroids based on the new cluster assignments\n",
    "            new_centroids = np.array([np.mean(X[np.where(cluster_assignments == j)], axis=0) \n",
    "                                      for j in range(self.k)])\n",
    "            \n",
    "            # Check for convergence\n",
    "            if np.linalg.norm(new_centroids - self.centroids) < self.tol:\n",
    "                break\n",
    "                \n",
    "            self.centroids = new_centroids\n",
    "    \n",
    "    def predict(self, X):\n",
    "        # Assign each data point to the closest centroid\n",
    "        distances = np.linalg.norm(X[:, np.newaxis] - self.centroids, axis=2)\n",
    "        cluster_assignments = np.argmin(distances, axis=1)\n",
    "        \n",
    "        return cluster_assignments\n"
   ]
  },
  {
   "cell_type": "code",
   "execution_count": 4,
   "metadata": {},
   "outputs": [
    {
     "data": {
      "text/plain": [
       "(10, 2)"
      ]
     },
     "execution_count": 4,
     "metadata": {},
     "output_type": "execute_result"
    }
   ],
   "source": [
    "X.shape"
   ]
  },
  {
   "cell_type": "code",
   "execution_count": 5,
   "metadata": {},
   "outputs": [
    {
     "data": {
      "text/plain": [
       "(10, 1, 2)"
      ]
     },
     "execution_count": 5,
     "metadata": {},
     "output_type": "execute_result"
    }
   ],
   "source": [
    "X[:, np.newaxis].shape"
   ]
  },
  {
   "cell_type": "code",
   "execution_count": 10,
   "metadata": {},
   "outputs": [
    {
     "data": {
      "text/plain": [
       "(2, 2)"
      ]
     },
     "execution_count": 10,
     "metadata": {},
     "output_type": "execute_result"
    }
   ],
   "source": [
    "k=2\n",
    "centroids = X[np.random.choice(X.shape[0], k, replace=False)]\n",
    "centroids.shape"
   ]
  },
  {
   "cell_type": "code",
   "execution_count": 14,
   "metadata": {},
   "outputs": [
    {
     "name": "stdout",
     "output_type": "stream",
     "text": [
      "(10, 2, 2)\n",
      "(10, 2)\n"
     ]
    }
   ],
   "source": [
    "print((X[:, np.newaxis] - centroids).shape)\n",
    "# (m, 1, p) - (k, p)\n",
    "# (m, k, p) - (m, k, p)\n",
    "distances = np.linalg.norm(X[:, np.newaxis] - centroids, axis=2) #(10, 2, 2)\n",
    "print(distances.shape)"
   ]
  },
  {
   "cell_type": "code",
   "execution_count": 16,
   "metadata": {},
   "outputs": [
    {
     "data": {
      "text/plain": [
       "array([[15.79586186, 15.1785255 ],\n",
       "       [13.29998578, 12.56202918],\n",
       "       [15.07280908, 14.35835225],\n",
       "       [14.85947843, 14.0642057 ],\n",
       "       [16.09678557, 15.3484279 ],\n",
       "       [ 2.46182816,  2.09903746],\n",
       "       [ 2.465405  ,  1.525545  ],\n",
       "       [ 1.47671986,  0.69361426],\n",
       "       [ 0.        ,  0.94994847],\n",
       "       [ 0.94994847,  0.        ]])"
      ]
     },
     "execution_count": 16,
     "metadata": {},
     "output_type": "execute_result"
    }
   ],
   "source": [
    "distances"
   ]
  },
  {
   "cell_type": "code",
   "execution_count": 17,
   "metadata": {},
   "outputs": [
    {
     "data": {
      "text/plain": [
       "array([1, 1, 1, 1, 1, 1, 1, 1, 0, 1])"
      ]
     },
     "execution_count": 17,
     "metadata": {},
     "output_type": "execute_result"
    }
   ],
   "source": [
    "cluster_assignments = np.argmin(distances, axis=1)\n",
    "cluster_assignments"
   ]
  },
  {
   "cell_type": "code",
   "execution_count": null,
   "metadata": {},
   "outputs": [],
   "source": []
  }
 ],
 "metadata": {
  "kernelspec": {
   "display_name": "Python 3 (ipykernel)",
   "language": "python",
   "name": "python3"
  },
  "language_info": {
   "codemirror_mode": {
    "name": "ipython",
    "version": 3
   },
   "file_extension": ".py",
   "mimetype": "text/x-python",
   "name": "python",
   "nbconvert_exporter": "python",
   "pygments_lexer": "ipython3",
   "version": "3.11.5"
  }
 },
 "nbformat": 4,
 "nbformat_minor": 2
}
