{
 "cells": [
  {
   "cell_type": "markdown",
   "id": "1389f11b",
   "metadata": {},
   "source": [
    "## Linear Regression \n",
    "\n",
    "Linear regression is a statistical method used to model the relationship between a dependent variable (often denoted as \"y\") and one or more independent variables (often denoted as \"x\"). The basic idea of linear regression is to find the straight line that best fits the data points in a scatter plot.\n",
    "\n",
    "The most common form of linear regression is simple linear regression, which models the relationship between two variables:\n",
    "\n",
    "$y = mx + b$\n",
    "\n",
    "where y is the dependent variable, x is the independent variable, m is the slope, and b is the intercept. \n",
    "\n",
    "Given a set of input data ($\\{x_i, y_i\\}$), the goal of linear regression is to find the values of m and b that best fit the data\n",
    "\n",
    "\n",
    "The values of m and b are chosen to minimize the \"sum of squared errors\" (SSE) $(\\sum (y - \\hat{y})^2)$.\n",
    "\n",
    "Taking the partial derivatives with respect to m and b, set them equal to 0, and solve for m and b, we get:\n",
    "\n",
    "m = sum((x - x_mean) * (y - y_mean)) / sum((x - x_mean)^2)   \n",
    "b =  y_mean - m * x_mean\n",
    "\n",
    "\n",
    "Multiple linear regression is a more general form of linear regression that models the relationship between multiple independent variables and one dependent variable. The formula for the best-fit hyperplane in multiple linear regression is:\n",
    "\n",
    "$y = w_0 + w_1.x_1 + w_2.x_2 + ... + w_n.x_n = X^T. W$\n",
    "\n",
    "Check this [link](https://nandeshwar.in/100-days-of-deep-learning/what-is-linear-regression-with-derivation/) for the whole derivative process."
   ]
  },
  {
   "cell_type": "code",
   "execution_count": null,
   "id": "f25cd86a",
   "metadata": {},
   "outputs": [],
   "source": []
  }
 ],
 "metadata": {
  "kernelspec": {
   "display_name": "Python 3 (ipykernel)",
   "language": "python",
   "name": "python3"
  },
  "language_info": {
   "codemirror_mode": {
    "name": "ipython",
    "version": 3
   },
   "file_extension": ".py",
   "mimetype": "text/x-python",
   "name": "python",
   "nbconvert_exporter": "python",
   "pygments_lexer": "ipython3",
   "version": "3.11.5"
  }
 },
 "nbformat": 4,
 "nbformat_minor": 5
}
