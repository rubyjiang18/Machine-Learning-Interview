{
 "cells": [
  {
   "cell_type": "markdown",
   "id": "8bd5033a",
   "metadata": {},
   "source": [
    "# Linear Regression \n",
    "\n",
    "Linear regression is a statistical method used to model the relationship between a dependent variable (often denoted as \"y\") and one or more independent variables (often denoted as \"x\"). The basic idea of linear regression is to find the straight line that best fits the data points in a scatter plot.\n",
    "\n",
    "The most common form of linear regression is simple linear regression, which models the relationship between two variables:\n",
    "\n",
    "$y = \\beta_1 x + \\beta_0$\n",
    "\n",
    "where y is the dependent variable, x is the independent variable, $\\beta_1$ is the slope, and $\\beta_0$ is the intercept. \n",
    "\n",
    "Given a set of input data ($\\{x_i, y_i\\}$), the goal of linear regression is to find the values of $\\beta_1$ and $\\beta_0$ that best fit the data\n",
    "\n",
    "\n",
    "The values of $\\beta_1$ and $\\beta_0$ are chosen to minimize the \"sum of squared errors\" (SSE) $(\\sum (y - \\hat{y})^2)$.\n",
    "\n",
    "Taking the partial derivatives with respect to $\\beta_1$ and $\\beta_0$, set them equal to 0, and solve for $\\beta_1$ and $\\beta_0$, we get:\n",
    " \n",
    "\n",
    "$ \\beta_1 = \\frac{\\sum_{i=1}^{n} (x_i - \\bar{x})(y_i - \\bar{y})}{\\sum_{i=1}^{n} (x_i - \\bar{x})^2}$\n",
    "\n",
    "$ \\beta_0 = \\bar{y} - \\beta_1 \\cdot \\bar{x} $\n",
    "\n",
    "\n",
    "Multiple linear regression is a more general form of linear regression that models the relationship between multiple independent variables and one dependent variable. The formula for the best-fit hyperplane in multiple linear regression is:\n",
    "\n",
    "$y = w_0 + w_1.x_1 + w_2.x_2 + ... + w_n.x_n = X^T. W$\n",
    "\n",
    "Check this [link](https://nandeshwar.in/100-days-of-deep-learning/what-is-linear-regression-with-derivation/) for the whole derivative process."
   ]
  },
  {
   "cell_type": "markdown",
   "id": "d698e4b8",
   "metadata": {},
   "source": [
    "## Code\n",
    "\n",
    "### 1. Simple linear regression\n",
    "Here is a basic implementation of simple linear regression in Python using the least squares method:"
   ]
  },
  {
   "cell_type": "code",
   "execution_count": 8,
   "id": "a3576a5b",
   "metadata": {},
   "outputs": [],
   "source": [
    "import numpy as np\n",
    "\n",
    "class LinearRegression:\n",
    "    def __init__(self):\n",
    "        self.beta_1 = None # slope\n",
    "        self.beta_0 = None # intercept\n",
    "    \n",
    "    def fit(self, X, y):\n",
    "        n = len(X)\n",
    "        x_mean = np.mean(X)\n",
    "        y_mean = np.mean(y)\n",
    "        numerator = 0\n",
    "        denominator = 0\n",
    "        for i in range(n):\n",
    "            numerator += (X[i]-x_mean) * (y[i] - y_mean)\n",
    "            denominator += (X[i]-x_mean) ** 2\n",
    "        self.beta_1 = numerator / denominator\n",
    "        self.beta_0 = y_mean - self.beta_1 * x_mean\n",
    "    \n",
    "    def predict(self, X):\n",
    "        y_pred = []\n",
    "        for x in X:\n",
    "            y_pred.append(self.beta_1 * x + self.beta_0)\n",
    "        return y_pred"
   ]
  },
  {
   "cell_type": "code",
   "execution_count": 11,
   "id": "f395d719",
   "metadata": {},
   "outputs": [
    {
     "name": "stdout",
     "output_type": "stream",
     "text": [
      "0.6\n",
      "2.2\n",
      "[2.8000000000000003, 3.4000000000000004, 4.0, 4.6, 5.2]\n"
     ]
    }
   ],
   "source": [
    "X = np.array([1, 2, 3, 4, 5])\n",
    "y = np.array([2, 4, 5, 4, 5])\n",
    "lr = LinearRegression()\n",
    "lr.fit(X, y)\n",
    "print(lr.beta_1)  # Output: 0.6\n",
    "print(lr.beta_0)  # Output: 2.2\n",
    "y_pred = lr.predict(X)\n",
    "print(y_pred)  # Output: [2.8, 3.4, 4.0, 4.6, 5.2]"
   ]
  },
  {
   "cell_type": "markdown",
   "id": "a017d785",
   "metadata": {},
   "source": [
    "### 2. Vectorized\n",
    "$y = X.W$\n",
    "\n",
    "$W = (X^T.X)^{-1}X^T.y$\n",
    "\n",
    "Check [this link](https://courses.cs.washington.edu/courses/cse446/20wi/Lecture8/08_Regularization.pdf) for derivative."
   ]
  },
  {
   "cell_type": "code",
   "execution_count": 3,
   "id": "b58a334b",
   "metadata": {},
   "outputs": [],
   "source": [
    "import numpy as np\n",
    "\n",
    "class LinearRegression:\n",
    "    def __init__(self):\n",
    "        self.W = None\n",
    "    \n",
    "    def fit(self, X, y):\n",
    "        '''\n",
    "        X: n x d\n",
    "        '''\n",
    "        # add bias term to X -> [1 X]\n",
    "        n = X.shape[0]\n",
    "        X = np.hstack([np.ones((n,1)), X])\n",
    "        self.W = np.linalg.inv(X.T @ X) @ X.T @ y\n",
    "    \n",
    "    def predict(self, X):\n",
    "        n = X.shape[0]\n",
    "        X = np.hstack([np.ones((n,1)), X])\n",
    "        return X @ self.W"
   ]
  },
  {
   "cell_type": "code",
   "execution_count": 4,
   "id": "d98b6d8a",
   "metadata": {},
   "outputs": [
    {
     "data": {
      "text/plain": [
       "array([[1., 2., 2.],\n",
       "       [1., 4., 5.],\n",
       "       [1., 7., 8.]])"
      ]
     },
     "execution_count": 4,
     "metadata": {},
     "output_type": "execute_result"
    }
   ],
   "source": [
    "X = np.array([[2, 2], [4, 5], [7, 8]])\n",
    "n = X.shape[0]\n",
    "X = np.hstack([np.ones((n,1)), X])\n",
    "X"
   ]
  },
  {
   "cell_type": "code",
   "execution_count": 6,
   "id": "4b78f0d9",
   "metadata": {},
   "outputs": [
    {
     "name": "stdout",
     "output_type": "stream",
     "text": [
      "[3. 1. 2.]\n",
      "[35. 44.]\n"
     ]
    }
   ],
   "source": [
    "# Create example input data\n",
    "X = np.array([[2, 2], [4, 5], [7, 8]])\n",
    "y = np.array([9, 17, 26])\n",
    "\n",
    "# Fit linear regression model\n",
    "lr = LinearRegression()\n",
    "lr.fit(X, y)\n",
    "print(lr.W) # [3. 1. 2.] # 3 is beta_0\n",
    "\n",
    "# Make predictions on new data\n",
    "X_new = np.array([[10, 11], [13, 14]])\n",
    "y_pred = lr.predict(X_new)\n",
    "print(y_pred)  # Output: [35. 44.]"
   ]
  },
  {
   "cell_type": "markdown",
   "id": "5d9810c2",
   "metadata": {},
   "source": [
    "### 3. Improvements\n",
    "here are some improvements to the simple linear regression implementation to make it more robust:\n",
    "\n",
    "1. Add input **validation**: Add input validation to check that the input arrays X and y have the same length and are not empty.\n",
    "\n",
    "2. Use NumPy broadcasting: Instead of looping through the data to calculate the numerator and denominator, we can use NumPy broadcasting to perform the calculations in a vectorized way. This will make the code faster and more efficient.\n",
    "\n",
    "3. Add **regularization**: Regularization can help prevent overfitting by adding a penalty term to the cost function. One common regularization technique is L2 regularization, which adds the sum of squares of the coefficients to the cost function. This can be easily added to the code by adding a regularization parameter to the constructor.\n",
    "\n",
    "4. Use **gradient descent**: For large datasets, calculating the inverse of the matrix in the normal equation can be computationally expensive (ON^3). To overcome this, we can use gradient descent to minimize the cost function. This can be implemented by adding a method that updates the coefficients iteratively using the gradient descent algorithm.\n",
    "\n",
    "Here's the updated code that incorporates these improvements:"
   ]
  },
  {
   "cell_type": "code",
   "execution_count": 18,
   "id": "64ca31ca",
   "metadata": {},
   "outputs": [],
   "source": [
    "import numpy as np\n",
    "\n",
    "class LinearRegressionGD:\n",
    "    def __init__(self, regul=0):\n",
    "        self.regul = regul\n",
    "        self.W = None\n",
    "    \n",
    "    def fit(self, X, y, lr=0.01, num_iter=1000):\n",
    "        # Input validation\n",
    "        if len(X) != len(y) or len(X) == 0:\n",
    "            raise ValueError(\"X and y must have the same length and cannot be empty\")\n",
    "        \n",
    "        # Add bias term to X -> [1 X]\n",
    "        X = np.hstack([np.ones((len(X), 1)), X])\n",
    "        \n",
    "        # Initialize W to zeros\n",
    "        self.W = np.zeros(X.shape[1])\n",
    "        \n",
    "        # Use gradient descent to minimize cost function\n",
    "        for i in range(num_iter):\n",
    "            # calculate predicted values\n",
    "            y_pred = np.dot(X, self.W)\n",
    "            # calculate cost function\n",
    "            cost = np.sum((y_pred - y)**2) + self.regul * np.sum(self.W ** 2)\n",
    "            # calculate gradients\n",
    "            gradients = 2 * np.dot(X.T, (y_pred - y)) + 2 * self.regul * self.W\n",
    "            # update W\n",
    "            self.W = self.W - lr * gradients\n",
    "            \n",
    "            if i%1000 == 0: print(cost)\n",
    "    \n",
    "    def predict(self, X):\n",
    "        X = np.hstack([np.ones((len(X), 1)), X])\n",
    "        y_pred = np.dot(X, self.W)\n",
    "        return y_pred"
   ]
  },
  {
   "cell_type": "code",
   "execution_count": 19,
   "id": "cffdb348",
   "metadata": {},
   "outputs": [
    {
     "name": "stdout",
     "output_type": "stream",
     "text": [
      "86.0\n",
      "2.879128727013035\n",
      "2.879128727013033\n",
      "2.879128727013033\n",
      "2.879128727013033\n",
      "2.879128727013033\n",
      "2.879128727013033\n",
      "2.879128727013033\n",
      "2.879128727013033\n",
      "2.879128727013033\n",
      "[1.99964292 0.65345474]\n",
      "[2.65309766 3.3065524  3.96000714 4.61346188 5.26691662]\n"
     ]
    }
   ],
   "source": [
    "X = np.array([[1, 2, 3, 4, 5]]).T\n",
    "y = np.array([2, 4, 5, 4, 5])\n",
    "lr = LinearRegressionGD(regul=0.1)\n",
    "lr.fit(X, y, lr=0.01, num_iter=10000)\n",
    "print(lr.W)  # Output: [ 1.99964292  0.65345474 ]\n",
    "y_pred = lr.predict(X)\n",
    "print(y_pred)  # # Output: [2.65309766, 3.3065524, 3.96000714, 4.61346188, 5.26691662]\n",
    "\n"
   ]
  },
  {
   "cell_type": "code",
   "execution_count": 20,
   "id": "7c9c3252",
   "metadata": {},
   "outputs": [
    {
     "data": {
      "image/png": "[encoded data removed]",
      "text/plain": [
       "<Figure size 640x480 with 1 Axes>"
      ]
     },
     "metadata": {},
     "output_type": "display_data"
    }
   ],
   "source": [
    "\n",
    "import matplotlib.pyplot as plt \n",
    "\n",
    "# Plot the data and the linear regression line\n",
    "plt.scatter(X, y, color='blue')\n",
    "plt.plot(X, y_pred, color='red')\n",
    "plt.xlabel('X')\n",
    "plt.ylabel('y')\n",
    "plt.title('Linear Regression')\n",
    "plt.show()\n",
    "\n"
   ]
  },
  {
   "cell_type": "code",
   "execution_count": null,
   "id": "8be19265",
   "metadata": {},
   "outputs": [],
   "source": []
  }
 ],
 "metadata": {
  "kernelspec": {
   "display_name": "Python 3 (ipykernel)",
   "language": "python",
   "name": "python3"
  },
  "language_info": {
   "codemirror_mode": {
    "name": "ipython",
    "version": 3
   },
   "file_extension": ".py",
   "mimetype": "text/x-python",
   "name": "python",
   "nbconvert_exporter": "python",
   "pygments_lexer": "ipython3",
   "version": "3.11.5"
  }
 },
 "nbformat": 4,
 "nbformat_minor": 5
}
